{
 "cells": [
  {
   "cell_type": "code",
   "execution_count": 1,
   "id": "a74d84bf",
   "metadata": {},
   "outputs": [],
   "source": [
    "import rasterio\n",
    "import numpy as np\n",
    "import pandas as pd\n",
    "\n",
    "from clasificacion_humedales.utils.utils_maia import directories, read_clustering, save_clustering\n",
    "from clasificacion_humedales.utils.compare import belonging_dataframe_absolute_values, amount_of_pixels_in_each_cluster, percentage_of_each_cluster"
   ]
  },
  {
   "cell_type": "markdown",
   "id": "511c31f1",
   "metadata": {},
   "source": [
    "## Directorios"
   ]
  },
  {
   "cell_type": "code",
   "execution_count": 2,
   "id": "e9074fdb",
   "metadata": {},
   "outputs": [],
   "source": [
    "PATH_IN, PATH_OUT = directories()\n",
    "\n",
    "dir_gt = PATH_OUT + 'clustering_gt/'\n",
    "dir_out = PATH_OUT + 'side_by_side/'\n",
    "\n",
    "fn_dates = PATH_OUT + 'clustering/clustering_dates.tif'\n",
    "fn_pca = PATH_OUT +'clustering/clustering_pca.tif'\n",
    "fn_gt = dir_gt + 'mapa_gt_clustered.tif'"
   ]
  },
  {
   "cell_type": "markdown",
   "id": "befdf053",
   "metadata": {},
   "source": [
    "## Leer datos"
   ]
  },
  {
   "cell_type": "code",
   "execution_count": 3,
   "id": "c710ced1",
   "metadata": {},
   "outputs": [],
   "source": [
    "gt = read_clustering(fn_gt)\n",
    "clustering_dates = read_clustering(fn_dates)\n",
    "clustering_pca = read_clustering(fn_pca)"
   ]
  },
  {
   "cell_type": "code",
   "execution_count": 4,
   "id": "d0399970",
   "metadata": {},
   "outputs": [],
   "source": [
    "mask = (gt != -3000)\n",
    "\n",
    "cgt = gt[mask].flatten()\n",
    "cpc = clustering_pca[mask].flatten()\n",
    "cdt = clustering_dates[mask].flatten()\n",
    "\n",
    "height = gt.shape[0]\n",
    "width = gt.shape[1]\n",
    "\n",
    "assert((cdt < 0).sum() == (cgt<0).sum() == (cpc<0).sum() == 0)"
   ]
  },
  {
   "cell_type": "markdown",
   "id": "7e68ac29",
   "metadata": {},
   "source": [
    "## Método principal"
   ]
  },
  {
   "cell_type": "markdown",
   "id": "5473918a",
   "metadata": {},
   "source": [
    "A cada clase le asigna el cluster al que pertenece mayoritariamente, ajustado por la cantidad de píxels que tiene"
   ]
  },
  {
   "cell_type": "code",
   "execution_count": 5,
   "id": "b66a5387",
   "metadata": {},
   "outputs": [],
   "source": [
    "def best_mapping_between(clustering, gt, consider_weigths=True):\n",
    "    '''busca la mejor asignación de clusters a las clases \n",
    "    de manera de maximizar el accuracy de la clasificación\n",
    "    dados un ground-truth (gt) y un clustering.\n",
    "    devuelve una serie de pandas que asigna clusters a clases.\n",
    "    '''\n",
    "    \n",
    "    classes_gt = set(gt)\n",
    "    classes_clustering = set(clustering)\n",
    "    \n",
    "    M = belonging_dataframe_absolute_values(clustering, classes_clustering, 'clustering', gt, classes_gt, 'gt')\n",
    "    M_weigth = M\n",
    "    if consider_weigths:\n",
    "        weigths = pd.Series(amount_of_pixels_in_each_cluster(gt))\n",
    "        M_weigth = M.div(weigths)\n",
    "    return M_weigth.idxmax(axis=1)"
   ]
  },
  {
   "cell_type": "markdown",
   "id": "08c138d0",
   "metadata": {},
   "source": [
    "## Vamos lado y lado con los clusters de mejor BIC"
   ]
  },
  {
   "cell_type": "markdown",
   "id": "6a539c65",
   "metadata": {},
   "source": [
    "### Dates"
   ]
  },
  {
   "cell_type": "markdown",
   "id": "602a06e4",
   "metadata": {},
   "source": [
    "Encuentro la mejor asignación y la aplico"
   ]
  },
  {
   "cell_type": "code",
   "execution_count": 6,
   "id": "c1eee9a6",
   "metadata": {},
   "outputs": [],
   "source": [
    "dic_dt = best_mapping_between(cdt, cgt, consider_weigths=True)\n",
    "classif_dates = np.array([dic_dt[c] for c in cdt])"
   ]
  },
  {
   "cell_type": "code",
   "execution_count": 7,
   "id": "cb7f80bf",
   "metadata": {},
   "outputs": [
    {
     "data": {
      "text/plain": [
       "{0: 9,\n",
       " 1: 3,\n",
       " 2: 22,\n",
       " 3: 10,\n",
       " 4: 22,\n",
       " 5: 3,\n",
       " 6: 2,\n",
       " 7: 1,\n",
       " 8: 25,\n",
       " 9: 22,\n",
       " 10: 5,\n",
       " 11: 1,\n",
       " 12: 12,\n",
       " 13: 3,\n",
       " 14: 20,\n",
       " 15: 2,\n",
       " 16: 3,\n",
       " 17: 4,\n",
       " 18: 8,\n",
       " 19: 23,\n",
       " 20: 15,\n",
       " 21: 1}"
      ]
     },
     "execution_count": 7,
     "metadata": {},
     "output_type": "execute_result"
    }
   ],
   "source": [
    "dic_dt.to_dict()"
   ]
  },
  {
   "cell_type": "code",
   "execution_count": 8,
   "id": "804684b3",
   "metadata": {},
   "outputs": [],
   "source": [
    "classes_classif_dates=set(classif_dates)"
   ]
  },
  {
   "cell_type": "code",
   "execution_count": 9,
   "id": "6e2109df",
   "metadata": {},
   "outputs": [
    {
     "name": "stdout",
     "output_type": "stream",
     "text": [
      "Transformando el clustering en clasificación\n",
      "obtuve: 14 clases: {1, 2, 3, 4, 5, 8, 9, 10, 12, 15, 20, 22, 23, 25}\n"
     ]
    }
   ],
   "source": [
    "print(\"Transformando el clustering en clasificación\")\n",
    "print(f'obtuve: {len(classes_classif_dates):>2d} clases: {classes_classif_dates}')"
   ]
  },
  {
   "cell_type": "markdown",
   "id": "126c6311",
   "metadata": {},
   "source": [
    "Ahora hago para el otro lado"
   ]
  },
  {
   "cell_type": "code",
   "execution_count": 10,
   "id": "ba1978dc",
   "metadata": {},
   "outputs": [],
   "source": [
    "dic_i_dt = best_mapping_between(cgt, classif_dates, consider_weigths=True)\n",
    "dic_i_dt[-3000]=-3000"
   ]
  },
  {
   "cell_type": "code",
   "execution_count": 11,
   "id": "22757593",
   "metadata": {
    "scrolled": true
   },
   "outputs": [
    {
     "name": "stdout",
     "output_type": "stream",
     "text": [
      "Pegando clases del GT\n",
      "obtuve: 12 Clases: {1, 2, 3, 4, 5, 8, 9, 10, 12, 15, 20, 22}\n"
     ]
    }
   ],
   "source": [
    "gt_filtered_dates = [dic_i_dt[c] for c in cgt]\n",
    "S = set(gt_filtered_dates)\n",
    "print(\"Pegando clases del GT\")\n",
    "print(f'obtuve: {len(S):>2d} Clases: {S}')"
   ]
  },
  {
   "cell_type": "code",
   "execution_count": 12,
   "id": "d254734c",
   "metadata": {
    "scrolled": false
   },
   "outputs": [
    {
     "data": {
      "text/html": [
       "<div>\n",
       "<style scoped>\n",
       "    .dataframe tbody tr th:only-of-type {\n",
       "        vertical-align: middle;\n",
       "    }\n",
       "\n",
       "    .dataframe tbody tr th {\n",
       "        vertical-align: top;\n",
       "    }\n",
       "\n",
       "    .dataframe thead th {\n",
       "        text-align: right;\n",
       "    }\n",
       "</style>\n",
       "<table border=\"1\" class=\"dataframe\">\n",
       "  <thead>\n",
       "    <tr style=\"text-align: right;\">\n",
       "      <th></th>\n",
       "      <th>vuelta</th>\n",
       "    </tr>\n",
       "    <tr>\n",
       "      <th>clase GT</th>\n",
       "      <th></th>\n",
       "    </tr>\n",
       "  </thead>\n",
       "  <tbody>\n",
       "    <tr>\n",
       "      <th>-3000</th>\n",
       "      <td>-3000</td>\n",
       "    </tr>\n",
       "    <tr>\n",
       "      <th>1</th>\n",
       "      <td>1</td>\n",
       "    </tr>\n",
       "    <tr>\n",
       "      <th>13</th>\n",
       "      <td>1</td>\n",
       "    </tr>\n",
       "    <tr>\n",
       "      <th>16</th>\n",
       "      <td>1</td>\n",
       "    </tr>\n",
       "    <tr>\n",
       "      <th>2</th>\n",
       "      <td>2</td>\n",
       "    </tr>\n",
       "    <tr>\n",
       "      <th>3</th>\n",
       "      <td>3</td>\n",
       "    </tr>\n",
       "    <tr>\n",
       "      <th>4</th>\n",
       "      <td>4</td>\n",
       "    </tr>\n",
       "    <tr>\n",
       "      <th>5</th>\n",
       "      <td>5</td>\n",
       "    </tr>\n",
       "    <tr>\n",
       "      <th>18</th>\n",
       "      <td>5</td>\n",
       "    </tr>\n",
       "    <tr>\n",
       "      <th>8</th>\n",
       "      <td>8</td>\n",
       "    </tr>\n",
       "    <tr>\n",
       "      <th>14</th>\n",
       "      <td>8</td>\n",
       "    </tr>\n",
       "    <tr>\n",
       "      <th>6</th>\n",
       "      <td>9</td>\n",
       "    </tr>\n",
       "    <tr>\n",
       "      <th>9</th>\n",
       "      <td>9</td>\n",
       "    </tr>\n",
       "    <tr>\n",
       "      <th>19</th>\n",
       "      <td>9</td>\n",
       "    </tr>\n",
       "    <tr>\n",
       "      <th>20</th>\n",
       "      <td>9</td>\n",
       "    </tr>\n",
       "    <tr>\n",
       "      <th>23</th>\n",
       "      <td>9</td>\n",
       "    </tr>\n",
       "    <tr>\n",
       "      <th>10</th>\n",
       "      <td>10</td>\n",
       "    </tr>\n",
       "    <tr>\n",
       "      <th>11</th>\n",
       "      <td>10</td>\n",
       "    </tr>\n",
       "    <tr>\n",
       "      <th>21</th>\n",
       "      <td>10</td>\n",
       "    </tr>\n",
       "    <tr>\n",
       "      <th>12</th>\n",
       "      <td>12</td>\n",
       "    </tr>\n",
       "    <tr>\n",
       "      <th>17</th>\n",
       "      <td>12</td>\n",
       "    </tr>\n",
       "    <tr>\n",
       "      <th>25</th>\n",
       "      <td>12</td>\n",
       "    </tr>\n",
       "    <tr>\n",
       "      <th>15</th>\n",
       "      <td>15</td>\n",
       "    </tr>\n",
       "    <tr>\n",
       "      <th>0</th>\n",
       "      <td>20</td>\n",
       "    </tr>\n",
       "    <tr>\n",
       "      <th>24</th>\n",
       "      <td>20</td>\n",
       "    </tr>\n",
       "    <tr>\n",
       "      <th>7</th>\n",
       "      <td>22</td>\n",
       "    </tr>\n",
       "    <tr>\n",
       "      <th>22</th>\n",
       "      <td>22</td>\n",
       "    </tr>\n",
       "  </tbody>\n",
       "</table>\n",
       "</div>"
      ],
      "text/plain": [
       "          vuelta\n",
       "clase GT        \n",
       "-3000      -3000\n",
       " 1             1\n",
       " 13            1\n",
       " 16            1\n",
       " 2             2\n",
       " 3             3\n",
       " 4             4\n",
       " 5             5\n",
       " 18            5\n",
       " 8             8\n",
       " 14            8\n",
       " 6             9\n",
       " 9             9\n",
       " 19            9\n",
       " 20            9\n",
       " 23            9\n",
       " 10           10\n",
       " 11           10\n",
       " 21           10\n",
       " 12           12\n",
       " 17           12\n",
       " 25           12\n",
       " 15           15\n",
       " 0            20\n",
       " 24           20\n",
       " 7            22\n",
       " 22           22"
      ]
     },
     "execution_count": 12,
     "metadata": {},
     "output_type": "execute_result"
    }
   ],
   "source": [
    "dic_i_dt.to_frame('vuelta').rename_axis('clase GT').sort_values(['vuelta', 'clase GT'])"
   ]
  },
  {
   "cell_type": "markdown",
   "id": "1886bb39",
   "metadata": {},
   "source": [
    "### PCA"
   ]
  },
  {
   "cell_type": "markdown",
   "id": "ddcb40ec",
   "metadata": {},
   "source": [
    "Encuentro la mejor asignación y la aplico"
   ]
  },
  {
   "cell_type": "code",
   "execution_count": 13,
   "id": "3981596e",
   "metadata": {},
   "outputs": [],
   "source": [
    "dic_pc = best_mapping_between(cpc, cgt, consider_weigths=True)\n",
    "classif_pca = np.array([dic_pc[c] for c in cpc])"
   ]
  },
  {
   "cell_type": "code",
   "execution_count": 14,
   "id": "27fa8438",
   "metadata": {},
   "outputs": [
    {
     "name": "stdout",
     "output_type": "stream",
     "text": [
      "Obtuve: 17 clases {0, 1, 2, 3, 4, 5, 6, 8, 9, 11, 13, 14, 15, 16, 20, 21, 22}\n"
     ]
    }
   ],
   "source": [
    "classes_classif_pca = set(classif_pca)\n",
    "classes_classif_pca.discard(-1)\n",
    "print(f'Obtuve: {len(classes_classif_pca):>2d} clases {classes_classif_pca}')"
   ]
  },
  {
   "cell_type": "markdown",
   "id": "40b9183f",
   "metadata": {},
   "source": [
    "Ahora hago para el otro lado"
   ]
  },
  {
   "cell_type": "code",
   "execution_count": 15,
   "id": "5560daeb",
   "metadata": {},
   "outputs": [],
   "source": [
    "dic_i_pc = best_mapping_between(cgt, classif_pca, consider_weigths=True)\n",
    "dic_i_pc[-3000]=-3000"
   ]
  },
  {
   "cell_type": "code",
   "execution_count": 16,
   "id": "332ecb26",
   "metadata": {
    "scrolled": true
   },
   "outputs": [
    {
     "name": "stdout",
     "output_type": "stream",
     "text": [
      "Pegando clases del GT:\n",
      "Obtuve: 17 | Clases: {0, 1, 2, 3, 4, 5, 6, 8, 9, 11, 13, 14, 15, 16, 20, 21, 22}\n"
     ]
    }
   ],
   "source": [
    "gt_filtered_pca = [dic_i_pc[c] for c in cgt]\n",
    "S = set(gt_filtered_pca)\n",
    "print(\"Pegando clases del GT:\")\n",
    "print(f'Obtuve: {len(S):>2d} | Clases: {S}')"
   ]
  },
  {
   "cell_type": "code",
   "execution_count": 17,
   "id": "389e3dd5",
   "metadata": {},
   "outputs": [
    {
     "data": {
      "text/html": [
       "<div>\n",
       "<style scoped>\n",
       "    .dataframe tbody tr th:only-of-type {\n",
       "        vertical-align: middle;\n",
       "    }\n",
       "\n",
       "    .dataframe tbody tr th {\n",
       "        vertical-align: top;\n",
       "    }\n",
       "\n",
       "    .dataframe thead th {\n",
       "        text-align: right;\n",
       "    }\n",
       "</style>\n",
       "<table border=\"1\" class=\"dataframe\">\n",
       "  <thead>\n",
       "    <tr style=\"text-align: right;\">\n",
       "      <th></th>\n",
       "      <th>vuelta</th>\n",
       "    </tr>\n",
       "    <tr>\n",
       "      <th>clase GT</th>\n",
       "      <th></th>\n",
       "    </tr>\n",
       "  </thead>\n",
       "  <tbody>\n",
       "    <tr>\n",
       "      <th>-3000</th>\n",
       "      <td>-3000</td>\n",
       "    </tr>\n",
       "    <tr>\n",
       "      <th>0</th>\n",
       "      <td>0</td>\n",
       "    </tr>\n",
       "    <tr>\n",
       "      <th>24</th>\n",
       "      <td>0</td>\n",
       "    </tr>\n",
       "    <tr>\n",
       "      <th>1</th>\n",
       "      <td>1</td>\n",
       "    </tr>\n",
       "    <tr>\n",
       "      <th>2</th>\n",
       "      <td>2</td>\n",
       "    </tr>\n",
       "    <tr>\n",
       "      <th>3</th>\n",
       "      <td>3</td>\n",
       "    </tr>\n",
       "    <tr>\n",
       "      <th>18</th>\n",
       "      <td>4</td>\n",
       "    </tr>\n",
       "    <tr>\n",
       "      <th>5</th>\n",
       "      <td>5</td>\n",
       "    </tr>\n",
       "    <tr>\n",
       "      <th>10</th>\n",
       "      <td>5</td>\n",
       "    </tr>\n",
       "    <tr>\n",
       "      <th>6</th>\n",
       "      <td>6</td>\n",
       "    </tr>\n",
       "    <tr>\n",
       "      <th>12</th>\n",
       "      <td>6</td>\n",
       "    </tr>\n",
       "    <tr>\n",
       "      <th>25</th>\n",
       "      <td>6</td>\n",
       "    </tr>\n",
       "    <tr>\n",
       "      <th>8</th>\n",
       "      <td>8</td>\n",
       "    </tr>\n",
       "    <tr>\n",
       "      <th>4</th>\n",
       "      <td>9</td>\n",
       "    </tr>\n",
       "    <tr>\n",
       "      <th>9</th>\n",
       "      <td>9</td>\n",
       "    </tr>\n",
       "    <tr>\n",
       "      <th>19</th>\n",
       "      <td>9</td>\n",
       "    </tr>\n",
       "    <tr>\n",
       "      <th>20</th>\n",
       "      <td>9</td>\n",
       "    </tr>\n",
       "    <tr>\n",
       "      <th>23</th>\n",
       "      <td>9</td>\n",
       "    </tr>\n",
       "    <tr>\n",
       "      <th>11</th>\n",
       "      <td>11</td>\n",
       "    </tr>\n",
       "    <tr>\n",
       "      <th>13</th>\n",
       "      <td>13</td>\n",
       "    </tr>\n",
       "    <tr>\n",
       "      <th>14</th>\n",
       "      <td>14</td>\n",
       "    </tr>\n",
       "    <tr>\n",
       "      <th>15</th>\n",
       "      <td>15</td>\n",
       "    </tr>\n",
       "    <tr>\n",
       "      <th>16</th>\n",
       "      <td>16</td>\n",
       "    </tr>\n",
       "    <tr>\n",
       "      <th>17</th>\n",
       "      <td>20</td>\n",
       "    </tr>\n",
       "    <tr>\n",
       "      <th>21</th>\n",
       "      <td>21</td>\n",
       "    </tr>\n",
       "    <tr>\n",
       "      <th>7</th>\n",
       "      <td>22</td>\n",
       "    </tr>\n",
       "    <tr>\n",
       "      <th>22</th>\n",
       "      <td>22</td>\n",
       "    </tr>\n",
       "  </tbody>\n",
       "</table>\n",
       "</div>"
      ],
      "text/plain": [
       "          vuelta\n",
       "clase GT        \n",
       "-3000      -3000\n",
       " 0             0\n",
       " 24            0\n",
       " 1             1\n",
       " 2             2\n",
       " 3             3\n",
       " 18            4\n",
       " 5             5\n",
       " 10            5\n",
       " 6             6\n",
       " 12            6\n",
       " 25            6\n",
       " 8             8\n",
       " 4             9\n",
       " 9             9\n",
       " 19            9\n",
       " 20            9\n",
       " 23            9\n",
       " 11           11\n",
       " 13           13\n",
       " 14           14\n",
       " 15           15\n",
       " 16           16\n",
       " 17           20\n",
       " 21           21\n",
       " 7            22\n",
       " 22           22"
      ]
     },
     "execution_count": 17,
     "metadata": {},
     "output_type": "execute_result"
    }
   ],
   "source": [
    "dic_i_pc.to_frame('vuelta').rename_axis('clase GT').sort_values(['vuelta', 'clase GT'])"
   ]
  },
  {
   "cell_type": "markdown",
   "id": "22fbab22",
   "metadata": {},
   "source": [
    "## Guardo en geotiff"
   ]
  },
  {
   "cell_type": "markdown",
   "id": "466bac42",
   "metadata": {},
   "source": [
    "Guardo en geotiff la clasificación de Dates"
   ]
  },
  {
   "cell_type": "code",
   "execution_count": 23,
   "id": "cf177658",
   "metadata": {},
   "outputs": [],
   "source": [
    "image = gt.copy()\n",
    "image[mask] = classif_dates\n",
    "\n",
    "save_clustering(fn_gt, dir_out + 'classif_dates_weigths.tif', image)"
   ]
  },
  {
   "cell_type": "markdown",
   "id": "457dd8e9",
   "metadata": {},
   "source": [
    "Guardo en geotiff el GT tamizado por Dates"
   ]
  },
  {
   "cell_type": "code",
   "execution_count": 24,
   "id": "584b63ef",
   "metadata": {},
   "outputs": [],
   "source": [
    "image = gt.copy()\n",
    "image[mask] = gt_filtered_dates\n",
    "    \n",
    "save_clustering(fn_gt, dir_out + 'gt_filtered_dates_weigths.tif', image)"
   ]
  },
  {
   "cell_type": "markdown",
   "id": "01c0696e",
   "metadata": {},
   "source": [
    "Guardo en geotiff la clasificación de PCA"
   ]
  },
  {
   "cell_type": "code",
   "execution_count": 25,
   "id": "082ae8a8",
   "metadata": {},
   "outputs": [],
   "source": [
    "image = gt.copy()\n",
    "image[mask] = classif_pca\n",
    "    \n",
    "save_clustering(fn_gt, dir_out + 'classif_pca_weigths.tif', image)"
   ]
  },
  {
   "cell_type": "markdown",
   "id": "81ed1d32",
   "metadata": {},
   "source": [
    "Guardo en geotiff el GT tamizado por PCA"
   ]
  },
  {
   "cell_type": "code",
   "execution_count": 26,
   "id": "a68c4b3c",
   "metadata": {
    "scrolled": true
   },
   "outputs": [],
   "source": [
    "image = gt.copy()\n",
    "image[mask] = gt_filtered_pca\n",
    "    \n",
    "save_clustering(fn_gt, dir_out + 'gt_filtered_pca_weigths.tif', image)"
   ]
  }
 ],
 "metadata": {
  "kernelspec": {
   "display_name": "Python 3 (ipykernel)",
   "language": "python",
   "name": "python3"
  },
  "language_info": {
   "codemirror_mode": {
    "name": "ipython",
    "version": 3
   },
   "file_extension": ".py",
   "mimetype": "text/x-python",
   "name": "python",
   "nbconvert_exporter": "python",
   "pygments_lexer": "ipython3",
   "version": "3.8.10"
  },
  "toc": {
   "base_numbering": 1,
   "nav_menu": {},
   "number_sections": true,
   "sideBar": true,
   "skip_h1_title": false,
   "title_cell": "Table of Contents",
   "title_sidebar": "Contents",
   "toc_cell": false,
   "toc_position": {
    "height": "calc(100% - 180px)",
    "left": "10px",
    "top": "150px",
    "width": "275.167px"
   },
   "toc_section_display": true,
   "toc_window_display": true
  }
 },
 "nbformat": 4,
 "nbformat_minor": 5
}
